{
  "nbformat": 4,
  "nbformat_minor": 0,
  "metadata": {
    "colab": {
      "name": "Unit3Sprint1-StudyGuide.ipynb",
      "provenance": [],
      "collapsed_sections": []
    },
    "kernelspec": {
      "name": "python3",
      "display_name": "Python 3"
    }
  },
  "cells": [
    {
      "cell_type": "markdown",
      "metadata": {
        "id": "Nd2OOOVXxXS1",
        "colab_type": "text"
      },
      "source": [
        "This study guide should reinforce and provide practice for all of the concepts you have seen in Unit 3 Sprint 1. There are a mix of written questions and coding exercises, both are equally important to prepare you for the sprint challenge as well as to be able to speak on these topics comfortably in interviews and on the job.\n",
        "\n",
        "If you get stuck or are unsure of something remember the 20 minute rule. If that doesn't help, then research a solution with google and stackoverflow. Only once you have exausted these methods should you turn to your Team Lead - they won't be there on your SC or during an interview. That being said, don't hesitate to ask for help if you truly are stuck.\n",
        "\n",
        "Have fun studying!"
      ]
    },
    {
      "cell_type": "markdown",
      "metadata": {
        "id": "YbwATE4qeJx7",
        "colab_type": "text"
      },
      "source": [
        "# Object Oriented Programming"
      ]
    },
    {
      "cell_type": "markdown",
      "metadata": {
        "id": "fpvInKdXekFi",
        "colab_type": "text"
      },
      "source": [
        "## Questions"
      ]
    },
    {
      "cell_type": "markdown",
      "metadata": {
        "id": "Q6bS8AhBZ86H",
        "colab_type": "text"
      },
      "source": [
        "When completing this section, try to limit your answers to 2-3 sentences max and use plain english as much as possible. It's very easy to hide incomplete knowledge and undertanding behind fancy or technical words, so imagine you are explaining these things to a non-technical interviewer.\n",
        "\n",
        "1. What is OOP?\n",
        "```\n",
        "Object Oriented Programming (OOP) is a programming model oriented around objects.  An object is data with unique attributes and behavior.  This is in contrast to functional or procedural programming oriented around functions and logic.\n",
        "```\n",
        "\n",
        "2. What is an object?\n",
        "```\n",
        "An object is data with unique attributes and behavior.\n",
        "```\n",
        "\n",
        "3. What is a class?\n",
        "```\n",
        "A class is a template definition of the methods and variables of a particular object.  A method is similar to a function in functional or proceedural programming.  A class can have sub-classes that inherit characteristics of the class.\n",
        "```\n",
        "\n",
        "4. What is inheritance?\n",
        "```\n",
        "A subclass can inherit characteristics of a class.  In other words, characteristics of a class (parent) can be assigned (inherited) to a subclass (child) allowing it to reuse common logic.\n",
        "```\n",
        "\n",
        "5. What does it mean to \"instantiate an object\"?\n",
        "```\n",
        "The creation of an instance of an object is called instantiation.  Instantiating an object creates a distinct named identity of the object.\n",
        "```\n",
        "\n",
        "6. What is a dunder method (aka magic method)? What dunder method is called when you instantiate an object?\n",
        "```\n",
        "A dunder method can be identified by the double underscore at the start and end of the method name (e.g. __init__).  The __init__ method is called when you instantiate an object.\n",
        "```\n",
        "\n",
        "7. What is the super method and when is it used?\n",
        "```\n",
        "The super method gives you access to methods in a superclass (parent) from the subclass (child) that inherits from it.\n",
        "```\n",
        "\n",
        "8. What are two other programming paradigms?\n",
        "```\n",
        "Functional programming tries to bind everything to pure mathematical functions.  Javascipt is a popular example. \n",
        "Procedural programming is based on the concept of using procedures, routines, subroutines or functions containing a series of computational steps.  C and Basic are classic examples of procedural progamming languages.\n",
        "```"
      ]
    },
    {
      "cell_type": "markdown",
      "metadata": {
        "id": "dUQaIwbceohq",
        "colab_type": "text"
      },
      "source": [
        "## Practice Problems"
      ]
    },
    {
      "cell_type": "markdown",
      "metadata": {
        "id": "gzQyr1iPfJBH",
        "colab_type": "text"
      },
      "source": [
        "Create a `person` class with the following attributes and functions\n",
        "\n",
        "`Instance Attributes`\n",
        "- name\n",
        "- age - age should be between 0 and 120, if the age is outside of this range at the time of instantiation, set it to 21\n",
        "- add 2 more instance attributes\n",
        "\n",
        "`Functions`\n",
        "- greets - a function that takes in a name and returns `'Hello, [INPUT NAME]! My name is [INSTANCE NAME], nice to meet you!'`\n",
        "- had_birthday - a function that increments age by 1\n",
        "- Write a function that uses one of the instance attributes you added"
      ]
    },
    {
      "cell_type": "code",
      "metadata": {
        "id": "e5hj6Jjwen3J",
        "colab_type": "code",
        "colab": {}
      },
      "source": [
        "# Create the class\n",
        "class Person:\n",
        "    # Define the constructor with the instance attributes\n",
        "    def __init__(self, name, age, height, weight):\n",
        "        self.name = name\n",
        "        self.age = age\n",
        "        if self.age < 1 or self.age > 119:\n",
        "            self.age = 21\n",
        "        self.height = height\n",
        "        self.weight = weight\n",
        "\n",
        "    # Create the greets method\n",
        "    def greets(self, new_name):\n",
        "        print('Hello, ' + new_name + '!' + ' My name is '\n",
        "              + self.name + ' nice to meet you!')\n",
        "\n",
        "    # Create the had_birthday method\n",
        "    def had_birthday(self):\n",
        "        self.age = self.age + 1\n",
        "        print(\"I'm now \" + str(self.age) + \" years old!\")\n",
        "\n",
        "    # Create the weight_change method\n",
        "    def weight_change(self, new_weight):\n",
        "        self.weight = self.weight + new_weight\n",
        "        print(\"I now weigh \" + str(self.weight) + \" pounds!\")"
      ],
      "execution_count": 0,
      "outputs": []
    },
    {
      "cell_type": "markdown",
      "metadata": {
        "id": "rq6bizULj6YF",
        "colab_type": "text"
      },
      "source": [
        "Instantiate your person class, the instance name should be the same as whatever is passed into the name attribute. Make sure you can access all attributes and all functions work as expected."
      ]
    },
    {
      "cell_type": "code",
      "metadata": {
        "id": "1jSaglmDkEZ7",
        "colab_type": "code",
        "outputId": "f019998c-54dc-4ac3-c22d-1cf57fc6f980",
        "colab": {
          "base_uri": "https://localhost:8080/",
          "height": 85
        }
      },
      "source": [
        "joe = Person('Joe', 36, 72, 180)\n",
        "joe.greets('John')\n",
        "joe.had_birthday()\n",
        "joe.weight_change(10)\n",
        "john = Person('John', -1, 70, 160)\n",
        "john.age"
      ],
      "execution_count": 0,
      "outputs": [
        {
          "output_type": "stream",
          "text": [
            "Hello, John! My name is Joe nice to meet you!\n",
            "I'm now 37 years old!\n",
            "I now weigh 190 pounds!\n"
          ],
          "name": "stdout"
        },
        {
          "output_type": "execute_result",
          "data": {
            "text/plain": [
              "21"
            ]
          },
          "metadata": {
            "tags": []
          },
          "execution_count": 2
        }
      ]
    },
    {
      "cell_type": "markdown",
      "metadata": {
        "id": "i2dHVZXjhlJS",
        "colab_type": "text"
      },
      "source": [
        "Create a `worker` class that inherits from `person`. It should have another dunder method besides `__init__` and have the following attributes and functions\n",
        "\n",
        "`Instance Attributes`\n",
        "- All of the attributes from person\n",
        "- company\n",
        "- job_title\n",
        "- personal_title (mrs, mr, Dr., etc.)\n",
        "- Add 2 more attributes relevant to just the worker class\n",
        "\n",
        "`Functions`\n",
        "- All of the functions from person\n",
        "- Override the greets class to now take in a personal title and name and returns `'Hello, [INPUT PERSONAL TITLE][INPUT NAME]! My name is [INSTANCE NAME], I work for [INSTANCE COMPANY].'`\n",
        "- Add a new function relevant to just the worker class that uses at least 2 attributes"
      ]
    },
    {
      "cell_type": "code",
      "metadata": {
        "id": "bnt4a3p9ZYFz",
        "colab_type": "code",
        "colab": {}
      },
      "source": [
        "# Create the Worker class inherited from the Person class\n",
        "class Worker(Person):\n",
        "    # Define the constructor with the instance attributes\n",
        "    def __init__(self, name, age, height, weight, company,\n",
        "                 job_title, personal_title, city, state):\n",
        "        super().__init__(name, age, height, weight)\n",
        "\n",
        "        self.company = company\n",
        "        self.job_title = job_title\n",
        "        self.personal_title = personal_title\n",
        "        self.city = city\n",
        "        self.state = state\n",
        "\n",
        "    # Create __str__ duncer method\n",
        "    def __str__(self):\n",
        "        return f\"I work for {self.company}\"\n",
        "\n",
        "    # Overide the Person greets method\n",
        "    def greets(self, new_title, new_name):\n",
        "        print('Hello, ' + new_title + ' ' + new_name + '!' + ' My name is '\n",
        "              + self.name + ' I work for ' + self.company)\n",
        "\n",
        "    # Create location method\n",
        "    def location(self):\n",
        "        print(\"my location is \" + self.city + \", \" + self.state)"
      ],
      "execution_count": 0,
      "outputs": []
    },
    {
      "cell_type": "markdown",
      "metadata": {
        "id": "QMlNQIUUkbSs",
        "colab_type": "text"
      },
      "source": [
        "Instantiate your worker class, the instance name should be the same as whatever is passed into the name attribute. Make sure you can access all attributes and all functions work as expected."
      ]
    },
    {
      "cell_type": "code",
      "metadata": {
        "id": "aeVIWEMAkvTM",
        "colab_type": "code",
        "outputId": "bcefd280-efba-429d-c411-bfaad0933dbd",
        "colab": {
          "base_uri": "https://localhost:8080/",
          "height": 136
        }
      },
      "source": [
        "betty = Worker('Betty', 38, 60, 120, 'IBM', 'Programmer', 'Ms', 'Austin', 'TX')\n",
        "print(betty.name)\n",
        "print(betty.age)\n",
        "print(betty.height)\n",
        "print(betty.company)\n",
        "\n",
        "betty.greets('Ms', 'Smith')\n",
        "betty.had_birthday()\n",
        "betty.location()"
      ],
      "execution_count": 0,
      "outputs": [
        {
          "output_type": "stream",
          "text": [
            "Betty\n",
            "38\n",
            "60\n",
            "IBM\n",
            "Hello, Ms Smith! My name is Betty I work for IBM\n",
            "I'm now 39 years old!\n",
            "my location is Austin, TX\n"
          ],
          "name": "stdout"
        }
      ]
    },
    {
      "cell_type": "markdown",
      "metadata": {
        "id": "5CdB5tYilNNi",
        "colab_type": "text"
      },
      "source": [
        "Verify all of your code above is PEP8 Compliant"
      ]
    },
    {
      "cell_type": "markdown",
      "metadata": {
        "id": "dcWZeuPvmGvg",
        "colab_type": "text"
      },
      "source": [
        "# Code Review"
      ]
    },
    {
      "cell_type": "markdown",
      "metadata": {
        "id": "ijwt2MNXmONV",
        "colab_type": "text"
      },
      "source": [
        "## Questions"
      ]
    },
    {
      "cell_type": "markdown",
      "metadata": {
        "id": "igFiqkERmWSk",
        "colab_type": "text"
      },
      "source": [
        "When completing this section, try to limit your answers to 2-3 sentences max and use plain english as much as possible. It's very easy to hide incomplete knowledge and undertanding behind fancy or technical words, so imagine you are explaining these things to a non-technical interviewer.\n",
        "\n",
        "1. What is a style guide? Why does it matter?\n",
        "```\n",
        "A style guide provides guidelines for formatting code to improve the readability and consistency of the code.  This helps you and others read, understand and debug the code.\n",
        "```\n",
        "\n",
        "2. What is the style guide for Python called? Name 3 conventions in the style guide.\n",
        "```\n",
        "PEP 8 is the style guide for python code.  Indentation should be 4 spaces, the max line length should usually be 79 chars, and imports should usually be on separate lines.\n",
        "```\n",
        "\n",
        "3. What are we looking for in a code review?\n",
        "```\n",
        "Code reviews can discover issues and help students understand programming concepts.  They should technically push and challenge students.\n",
        "```\n",
        "\n",
        "4. Of the items listed in question 3, which do you find to be the most important one and why?\n",
        "```\n",
        "Challenging students since it required them to explain and defend their code.  They must understand their code in order to explain and defend it.\n",
        "```\n",
        "\n",
        "5. Of the items listed in question 3, make a case for another item to be the most important.\n",
        "```\n",
        "Students having trouble understanding concepts can benefit from both being challenged by a peer and by reviewing a peer.  \n",
        "```\n",
        "\n",
        "6. What are some non-code considerations when giving a code review?\n",
        "```\n",
        "It's important to not make or take personal critcisms.  The review needs to address the code and technology and the feedback needs to be provided in a tactful manner.\n",
        "```"
      ]
    },
    {
      "cell_type": "markdown",
      "metadata": {
        "id": "TfGAb--lmTS1",
        "colab_type": "text"
      },
      "source": [
        "## Practice Problems"
      ]
    },
    {
      "cell_type": "markdown",
      "metadata": {
        "id": "8r525vW1o8RI",
        "colab_type": "text"
      },
      "source": [
        "Use the code below to answer the following questions"
      ]
    },
    {
      "cell_type": "code",
      "metadata": {
        "id": "K6X-1BM8mSJV",
        "colab_type": "code",
        "outputId": "ccdcb3cf-b9c5-4a29-ee8b-82a6606cc217",
        "colab": {
          "base_uri": "https://localhost:8080/",
          "height": 130
        }
      },
      "source": [
        "def sumMult35(n):\n",
        "  #This function finds checks to see if all numbers between 1 and n are a multiple of 3 or five and then adds those ones up. After that it returns that total.\n",
        "  t = 0\n",
        "  for i in range(1, n):\n",
        "    if ((i%3==0)): #mult of 3?\n",
        "      if (i%5==0): '''multiple of 5?'''\n",
        "        t=t+i #add up\n",
        "  return t\n",
        "\n",
        "sumMult35(16)"
      ],
      "execution_count": 0,
      "outputs": [
        {
          "output_type": "error",
          "ename": "IndentationError",
          "evalue": "ignored",
          "traceback": [
            "\u001b[0;36m  File \u001b[0;32m\"<ipython-input-5-6e57aa764224>\"\u001b[0;36m, line \u001b[0;32m7\u001b[0m\n\u001b[0;31m    t=t+i #add up\u001b[0m\n\u001b[0m    ^\u001b[0m\n\u001b[0;31mIndentationError\u001b[0m\u001b[0;31m:\u001b[0m unexpected indent\n"
          ]
        }
      ]
    },
    {
      "cell_type": "markdown",
      "metadata": {
        "id": "6Y52bPq0pBm7",
        "colab_type": "text"
      },
      "source": [
        "Write a short code review for the code above, that your coworker (the author of the code) will read. Remember two things: they are a fellow human, and also that you are not rewriting it for them, simply giving critique so that they can fix it later.\n",
        "\n",
        "```\n",
        "The primary issue with the code is it does not work as written.  One issue is the formatting which does not follow the PEP8 guidelines.  For example, the indentation does not use 4 spaces and the code may be indented incorrectly.  Also, the comments are difficult to read.  The first comment is too long (over the 79 char convention).  The inline comments have question marks, different formats and don't align.\n",
        "```"
      ]
    },
    {
      "cell_type": "markdown",
      "metadata": {
        "id": "cFVnDJSDpz5S",
        "colab_type": "text"
      },
      "source": [
        "Oh, no! You've swapped bodies with your coworker and now have to fix the code. Use your code review to rewrite the function, and make sure it is PEP8 compliant."
      ]
    },
    {
      "cell_type": "code",
      "metadata": {
        "id": "WLyoAK5RqL9B",
        "colab_type": "code",
        "outputId": "ed17960d-f6e2-4c4b-ead0-b3fe44d57f03",
        "colab": {
          "base_uri": "https://localhost:8080/",
          "height": 34
        }
      },
      "source": [
        "# Create a function to total multiples of 3 and 5\n",
        "def sumMult35(n):\n",
        "    t = 0\n",
        "    # Iterate through the \n",
        "    for i in range(1, n):\n",
        "        # Check for multiples of 3 and 5\n",
        "        if ((i % 3 == 0) or ((i % 5 == 0))):\n",
        "            t = t + i\n",
        "    return t\n",
        "\n",
        "\n",
        "sumMult35(16)"
      ],
      "execution_count": 0,
      "outputs": [
        {
          "output_type": "execute_result",
          "data": {
            "text/plain": [
              "60"
            ]
          },
          "metadata": {
            "tags": []
          },
          "execution_count": 6
        }
      ]
    },
    {
      "cell_type": "markdown",
      "metadata": {
        "id": "MT4KnnBdrwCh",
        "colab_type": "text"
      },
      "source": [
        "# Containers"
      ]
    },
    {
      "cell_type": "markdown",
      "metadata": {
        "id": "alRbvYkBr2UE",
        "colab_type": "text"
      },
      "source": [
        "## Questions"
      ]
    },
    {
      "cell_type": "markdown",
      "metadata": {
        "id": "4HwVuidTr4TT",
        "colab_type": "text"
      },
      "source": [
        "1. What is a container? Why are they used?\n",
        "```\n",
        "A standard unit of software that packages up code and all its dependencies in a stand-alone package that runs reliably from one environment to another.\n",
        "```\n",
        "\n",
        "2. From lecture we know Docker is software to create containers. Name 2 Docker competitors.\n",
        "```\n",
        "Rancher and Kubernetes\n",
        "```"
      ]
    },
    {
      "cell_type": "markdown",
      "metadata": {
        "id": "P8HQI4R5steC",
        "colab_type": "text"
      },
      "source": [
        "# Software Testing"
      ]
    },
    {
      "cell_type": "markdown",
      "metadata": {
        "id": "mslC0tl-tPUZ",
        "colab_type": "text"
      },
      "source": [
        "## Questions"
      ]
    },
    {
      "cell_type": "markdown",
      "metadata": {
        "id": "9d8MIl9dtRMA",
        "colab_type": "text"
      },
      "source": [
        "When completing this section, try to limit your answers to 2-3 sentences max and use plain english as much as possible. It's very easy to hide incomplete knowledge and undertanding behind fancy or technical words, so imagine you are explaining these things to a non-technical interviewer.\n",
        "\n",
        "1. What is unit testing and why do we do it?\n",
        "```\n",
        "Unit testing is a level of software testing where individual units of code are tested.  It validates that each unit of software performs as designed.\n",
        "```\n",
        "\n",
        "2. When writing unit tests, what should we consider? Why?\n",
        "```\n",
        "The unit to test.  You want the smallest unit such as an individual function, procedure or method.  A unit that is too large may miss a piece of code.  You also want to test the unit independently of other units or modules of code.  You also need to understand your requirements in order to write effective unit tests.\n",
        "```\n",
        "\n",
        "3. How many unit tests should we have?\n",
        "```\n",
        "One for each individual unit of code.\n",
        "```"
      ]
    },
    {
      "cell_type": "markdown",
      "metadata": {
        "id": "Z7mPWVQhuEcY",
        "colab_type": "text"
      },
      "source": [
        "## Practice Problems"
      ]
    },
    {
      "cell_type": "markdown",
      "metadata": {
        "id": "OEoaQiBbuHuH",
        "colab_type": "text"
      },
      "source": [
        "For the following problems you'll need to move your person and worker classes to `.py` files.\n",
        "\n",
        "Write the following unit tests in a third `.py` file. Verify they work by running the file, and then copy and paste the code into the cell below.\n",
        "- Verify that an instance of person has an age between 0 and 120 when first instantiated\n",
        "- Verify the same thing with a worker instance\n",
        "- Verify the worker `greet` function uses the `personal_title` of the person passed to it.\n",
        "- Write your own unit test"
      ]
    },
    {
      "cell_type": "code",
      "metadata": {
        "id": "BRu_08r7KQQB",
        "colab_type": "code",
        "outputId": "b92c129a-1145-4896-bf24-c003658377c8",
        "colab": {
          "base_uri": "https://localhost:8080/",
          "height": 445
        }
      },
      "source": [
        "pip install -U pytest"
      ],
      "execution_count": 0,
      "outputs": [
        {
          "output_type": "stream",
          "text": [
            "Collecting pytest\n",
            "\u001b[?25l  Downloading https://files.pythonhosted.org/packages/93/16/f6dec5178f5f4141e80dfc4812a9aba88f5f29ca881f174ab1851181d016/pytest-5.2.2-py3-none-any.whl (227kB)\n",
            "\r\u001b[K     |█▍                              | 10kB 17.3MB/s eta 0:00:01\r\u001b[K     |██▉                             | 20kB 3.2MB/s eta 0:00:01\r\u001b[K     |████▎                           | 30kB 4.6MB/s eta 0:00:01\r\u001b[K     |█████▊                          | 40kB 3.1MB/s eta 0:00:01\r\u001b[K     |███████▏                        | 51kB 3.7MB/s eta 0:00:01\r\u001b[K     |████████▋                       | 61kB 4.4MB/s eta 0:00:01\r\u001b[K     |██████████                      | 71kB 5.1MB/s eta 0:00:01\r\u001b[K     |███████████▌                    | 81kB 5.7MB/s eta 0:00:01\r\u001b[K     |█████████████                   | 92kB 6.4MB/s eta 0:00:01\r\u001b[K     |██████████████▍                 | 102kB 5.0MB/s eta 0:00:01\r\u001b[K     |███████████████▉                | 112kB 5.0MB/s eta 0:00:01\r\u001b[K     |█████████████████▎              | 122kB 5.0MB/s eta 0:00:01\r\u001b[K     |██████████████████▊             | 133kB 5.0MB/s eta 0:00:01\r\u001b[K     |████████████████████▏           | 143kB 5.0MB/s eta 0:00:01\r\u001b[K     |█████████████████████▋          | 153kB 5.0MB/s eta 0:00:01\r\u001b[K     |███████████████████████         | 163kB 5.0MB/s eta 0:00:01\r\u001b[K     |████████████████████████▌       | 174kB 5.0MB/s eta 0:00:01\r\u001b[K     |██████████████████████████      | 184kB 5.0MB/s eta 0:00:01\r\u001b[K     |███████████████████████████▍    | 194kB 5.0MB/s eta 0:00:01\r\u001b[K     |████████████████████████████▉   | 204kB 5.0MB/s eta 0:00:01\r\u001b[K     |██████████████████████████████▎ | 215kB 5.0MB/s eta 0:00:01\r\u001b[K     |███████████████████████████████▊| 225kB 5.0MB/s eta 0:00:01\r\u001b[K     |████████████████████████████████| 235kB 5.0MB/s \n",
            "\u001b[?25hRequirement already satisfied, skipping upgrade: py>=1.5.0 in /usr/local/lib/python3.6/dist-packages (from pytest) (1.8.0)\n",
            "Requirement already satisfied, skipping upgrade: importlib-metadata>=0.12; python_version < \"3.8\" in /usr/local/lib/python3.6/dist-packages (from pytest) (0.23)\n",
            "Requirement already satisfied, skipping upgrade: atomicwrites>=1.0 in /usr/local/lib/python3.6/dist-packages (from pytest) (1.3.0)\n",
            "Collecting pluggy<1.0,>=0.12\n",
            "  Downloading https://files.pythonhosted.org/packages/92/c7/48439f7d5fd6bddb4c04b850bb862b42e3e2b98570040dfaf68aedd8114b/pluggy-0.13.0-py2.py3-none-any.whl\n",
            "Requirement already satisfied, skipping upgrade: more-itertools>=4.0.0 in /usr/local/lib/python3.6/dist-packages (from pytest) (7.2.0)\n",
            "Requirement already satisfied, skipping upgrade: wcwidth in /usr/local/lib/python3.6/dist-packages (from pytest) (0.1.7)\n",
            "Requirement already satisfied, skipping upgrade: packaging in /usr/local/lib/python3.6/dist-packages (from pytest) (19.2)\n",
            "Requirement already satisfied, skipping upgrade: attrs>=17.4.0 in /usr/local/lib/python3.6/dist-packages (from pytest) (19.3.0)\n",
            "Requirement already satisfied, skipping upgrade: zipp>=0.5 in /usr/local/lib/python3.6/dist-packages (from importlib-metadata>=0.12; python_version < \"3.8\"->pytest) (0.6.0)\n",
            "Requirement already satisfied, skipping upgrade: six in /usr/local/lib/python3.6/dist-packages (from packaging->pytest) (1.12.0)\n",
            "Requirement already satisfied, skipping upgrade: pyparsing>=2.0.2 in /usr/local/lib/python3.6/dist-packages (from packaging->pytest) (2.4.2)\n",
            "\u001b[31mERROR: datascience 0.10.6 has requirement folium==0.2.1, but you'll have folium 0.8.3 which is incompatible.\u001b[0m\n",
            "Installing collected packages: pluggy, pytest\n",
            "  Found existing installation: pluggy 0.7.1\n",
            "    Uninstalling pluggy-0.7.1:\n",
            "      Successfully uninstalled pluggy-0.7.1\n",
            "  Found existing installation: pytest 3.6.4\n",
            "    Uninstalling pytest-3.6.4:\n",
            "      Successfully uninstalled pytest-3.6.4\n",
            "Successfully installed pluggy-0.13.0 pytest-5.2.2\n"
          ],
          "name": "stdout"
        }
      ]
    },
    {
      "cell_type": "code",
      "metadata": {
        "id": "fXFnxg7-LFz-",
        "colab_type": "code",
        "outputId": "854ef207-814c-4737-e2b1-4712c021c46e",
        "colab": {
          "base_uri": "https://localhost:8080/",
          "height": 153
        }
      },
      "source": [
        "!pytest test_pytest2.py"
      ],
      "execution_count": 0,
      "outputs": [
        {
          "output_type": "stream",
          "text": [
            "\u001b[1m============================= test session starts ==============================\u001b[0m\n",
            "platform linux -- Python 3.6.8, pytest-5.2.2, py-1.8.0, pluggy-0.13.0\n",
            "rootdir: /content\n",
            "\u001b[1mcollecting ... \u001b[0m\u001b[1m\rcollected 4 items                                                              \u001b[0m\n",
            "\n",
            "test_pytest2.py \u001b[32m.\u001b[0m\u001b[32m.\u001b[0m\u001b[32m.\u001b[0m\u001b[32m.\u001b[0m\u001b[36m                                                     [100%]\u001b[0m\n",
            "\n",
            "\u001b[32m\u001b[1m============================== 4 passed in 0.03s ===============================\u001b[0m\n"
          ],
          "name": "stdout"
        }
      ]
    },
    {
      "cell_type": "code",
      "metadata": {
        "id": "UbcOiN2-e4U5",
        "colab_type": "code",
        "colab": {}
      },
      "source": [
        "import pytest\n",
        "from person import Person\n",
        "from worker import Worker\n",
        "\n",
        "\n",
        "@pytest.fixture()\n",
        "def setup():\n",
        "    worker = Worker(\"John\", 30, 70, 160, \"IBM\",\n",
        "                    \"Manager\", \"Mr\", \"San Francisco\", \"CA\")\n",
        "    yield worker\n",
        "\n",
        "\n",
        "def test_age():\n",
        "    person = Person(\"Jim\", 35, 72, 180)\n",
        "    assert (person.age > 0 and person.age < 120) is True\n",
        "\n",
        "\n",
        "def test_worker(setup):\n",
        "    worker = setup\n",
        "    assert (worker.age > 0 and worker.age < 120) is True\n",
        "\n",
        "\n",
        "def test_worker_greets(setup):\n",
        "    worker = setup\n",
        "    worker.greets(\"Mr\", \"Smith\")\n",
        "    assert worker.personal_title == \"Mr\"\n",
        "\n",
        "\n",
        "def test_location(setup):\n",
        "    worker = setup\n",
        "    worker.location == \"San Francisco, CA\"\n"
      ],
      "execution_count": 0,
      "outputs": []
    },
    {
      "cell_type": "markdown",
      "metadata": {
        "id": "QQQopcNseCeT",
        "colab_type": "text"
      },
      "source": [
        "The code in all 3 `.py` files should be PEP8 compliant"
      ]
    },
    {
      "cell_type": "markdown",
      "metadata": {
        "id": "RvdEFbjMwZTx",
        "colab_type": "text"
      },
      "source": [
        "# Git Commands"
      ]
    },
    {
      "cell_type": "markdown",
      "metadata": {
        "id": "yjAVDrQuwcZQ",
        "colab_type": "text"
      },
      "source": [
        "1. What is the command to make a local copy of one of your repos?\n",
        "```\n",
        "git clone (use SSH key or GitHub repo path)\n",
        "```\n",
        "\n",
        "2. What does the command `git status` do?\n",
        "```\n",
        "Checks the status of the repo against the current state of the working directory.\n",
        "```\n",
        "\n",
        "3. How do you add the changes made in a local repo to your repo on github?\n",
        "```\n",
        "git add .\n",
        "git status\n",
        "git commit -m 'comments'\n",
        "git push origin master\n",
        "```\n",
        "\n",
        "4. What is a branch? Why is it used?\n",
        "```\n",
        "A branch is a parallel version of the repo.  You use a branch to isolate development work without affecting other branches of a repo.  The branch does not affect the primary or master branch allowing a developer to work freely without disrupting the live version.\n",
        "```"
      ]
    },
    {
      "cell_type": "code",
      "metadata": {
        "id": "qrayE3ACgT80",
        "colab_type": "code",
        "colab": {}
      },
      "source": [
        ""
      ],
      "execution_count": 0,
      "outputs": []
    }
  ]
}